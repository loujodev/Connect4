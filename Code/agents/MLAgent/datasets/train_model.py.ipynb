{
 "cells": [
  {
   "cell_type": "code",
   "id": "initial_id",
   "metadata": {
    "collapsed": true,
    "ExecuteTime": {
     "end_time": "2025-04-30T17:40:23.527982Z",
     "start_time": "2025-04-30T17:40:23.519231Z"
    }
   },
   "source": [
    "\"\"\"\n",
    "This file was not used to train the agent.\n",
    "It recreates the way the agent was trained on google colab.\n",
    "The actual notebook that was used for training can be found on:\n",
    "https://colab.research.google.com/drive/1hiVX0kBnVCfrrdMTvMqm-BHz6CyDa7nC?usp=sharing\n",
    "\n",
    "Nevertheless, the notebook shows exactly the code that was used for training and can be used as reference to train a model yourself.\n",
    "\"\"\""
   ],
   "outputs": [
    {
     "data": {
      "text/plain": [
       "'\\nThis file was not used to train the agent.\\nIt recreates the way the agent was trained on google colab.\\nThe actual notebook that was used for training can be found on:\\nhttps://colab.research.google.com/drive/1hiVX0kBnVCfrrdMTvMqm-BHz6CyDa7nC#scrollTo=JBSGBuCAcPND\\n\\nNevertheless the notebook shows exactly the code that was used for training and can be used as reference to train a model yourself.\\n'"
      ]
     },
     "execution_count": 3,
     "metadata": {},
     "output_type": "execute_result"
    }
   ],
   "execution_count": 3
  },
  {
   "metadata": {},
   "cell_type": "markdown",
   "source": "## Packages\n",
   "id": "b55080571ed100cb"
  },
  {
   "metadata": {},
   "cell_type": "code",
   "outputs": [],
   "execution_count": null,
   "source": [
    "from Code.agents.MLAgent.get_game_data import load_data\n",
    "import numpy as np\n",
    "from Code.agents.MLAgent.model import build_connect4_cnn\n",
    "from Code.agents.MLAgent.model import train_model"
   ],
   "id": "b71767ded9089b3c"
  },
  {
   "metadata": {},
   "cell_type": "code",
   "outputs": [],
   "execution_count": null,
   "source": [
    "#name and path where to save the model\n",
    "file_path = \"test.keras\""
   ],
   "id": "2472a66693bc30da"
  },
  {
   "metadata": {},
   "cell_type": "markdown",
   "source": "## Load data\n",
   "id": "bd71456313fb177e"
  },
  {
   "metadata": {
    "ExecuteTime": {
     "end_time": "2025-04-30T17:38:36.211124Z",
     "start_time": "2025-04-30T17:38:31.823962Z"
    }
   },
   "cell_type": "code",
   "source": [
    "\n",
    "\n",
    "X1, y1 = load_data(\"5kgames_55000moves_MiniMax_Smart.npz\")\n",
    "X2, y2 = load_data(\"5kgames_MiniMax_Smart_v2.npz\")\n",
    "X3, y3 = load_data(\"6kgames_65000moves_MiniMax_Smart.npz\")\n",
    "X4, y4 = load_data(\"6kgames_66000moves_MiniMax_Smart.npz\")\n",
    "X5, y5 = load_data(\"10kgames_109715moves_MiniMax_Smart.npz\")\n",
    "\n",
    "#Was not used to train the agent\n",
    "#X6, y6 = load_data(\"500games_MiniMax_depth6_Smart.npz\")\n",
    "\n",
    "combined_X = np.concatenate((X1, X2, X3, X4, X5), axis=0)\n",
    "combined_y = np.concatenate((y1, y2, y3, y4, y5), axis=0)\n",
    "\n",
    "print(f\"Combined dataset shapes - X: {combined_X.shape}, y: {combined_y.shape}\")"
   ],
   "id": "5a545a98a2afc6ce",
   "outputs": [
    {
     "name": "stderr",
     "output_type": "stream",
     "text": [
      "/Users/louisjonas/PycharmProjects/Connect4/.venv/lib/python3.9/site-packages/urllib3/__init__.py:35: NotOpenSSLWarning: urllib3 v2 only supports OpenSSL 1.1.1+, currently the 'ssl' module is compiled with 'LibreSSL 2.8.3'. See: https://github.com/urllib3/urllib3/issues/3020\n",
      "  warnings.warn(\n"
     ]
    },
    {
     "name": "stdout",
     "output_type": "stream",
     "text": [
      "Data loaded from 5kgames_55000moves_MiniMax_Smart.npz\n",
      "Data loaded from 5kgames_MiniMax_Smart_v2.npz\n",
      "Data loaded from 6kgames_65000moves_MiniMax_Smart.npz\n",
      "Data loaded from 6kgames_66000moves_MiniMax_Smart.npz\n",
      "Data loaded from 10kgames_109715moves_MiniMax_Smart.npz\n",
      "Combined dataset shapes - X: (351802, 6, 7, 3), y: (351802, 7)\n"
     ]
    }
   ],
   "execution_count": 1
  },
  {
   "metadata": {},
   "cell_type": "markdown",
   "source": "## Model",
   "id": "ddd6d8768be442ee"
  },
  {
   "metadata": {
    "ExecuteTime": {
     "end_time": "2025-04-30T17:42:54.810044Z",
     "start_time": "2025-04-30T17:42:54.805366Z"
    }
   },
   "cell_type": "code",
   "source": "model = build_connect4_cnn()",
   "id": "cf98cfc22c31d93d",
   "outputs": [],
   "execution_count": 4
  },
  {
   "metadata": {},
   "cell_type": "markdown",
   "source": "## Callbacks\n",
   "id": "b6d710a3b62b13a2"
  },
  {
   "metadata": {},
   "cell_type": "code",
   "outputs": [],
   "execution_count": null,
   "source": [
    "from tensorflow.keras.callbacks import ModelCheckpoint, EarlyStopping, ReduceLROnPlateau\n",
    "model_checkpoint = ModelCheckpoint(\n",
    "    filepath=file_path,\n",
    "    save_best_only=True,\n",
    "    monitor='val_loss',\n",
    "    mode='min',\n",
    "    verbose=1\n",
    ")\n",
    "\n",
    "early_stopping = EarlyStopping(\n",
    "    monitor='val_loss',\n",
    "    patience=5,\n",
    "    mode='min',\n",
    "    verbose=1,\n",
    "    restore_best_weights=True\n",
    ")\n",
    "\n",
    "reduce_lr = ReduceLROnPlateau(\n",
    "    monitor='val_loss',\n",
    "    factor=0.2,\n",
    "    patience=3,\n",
    "    min_lr=0.00001,\n",
    "    mode='min',\n",
    "    verbose=1\n",
    ")"
   ],
   "id": "ef192bb69cc6a86d"
  },
  {
   "metadata": {},
   "cell_type": "markdown",
   "source": "## Training",
   "id": "4719eb4139ab210"
  },
  {
   "metadata": {},
   "cell_type": "code",
   "outputs": [],
   "execution_count": null,
   "source": [
    "training_history = train_model(\n",
    "        model=model,\n",
    "        X_train=combined_X,\n",
    "        y_train=combined_y,\n",
    "        epochs=15,\n",
    "        batch_size=64,\n",
    "        validation_split=0.15,\n",
    "        callbacks=[model_checkpoint, early_stopping, reduce_lr]\n",
    "        )"
   ],
   "id": "1ed271fa23d2a328"
  },
  {
   "metadata": {},
   "cell_type": "markdown",
   "source": "## Plotting",
   "id": "5f49a8f75688634e"
  },
  {
   "metadata": {},
   "cell_type": "code",
   "outputs": [],
   "execution_count": null,
   "source": [
    "from Code.agents.MLAgent.model import plot_training_loss\n",
    "\n",
    "plot_training_loss(training_history)"
   ],
   "id": "eb383f57925e7da6"
  }
 ],
 "metadata": {
  "kernelspec": {
   "display_name": "Python 3",
   "language": "python",
   "name": "python3"
  },
  "language_info": {
   "codemirror_mode": {
    "name": "ipython",
    "version": 2
   },
   "file_extension": ".py",
   "mimetype": "text/x-python",
   "name": "python",
   "nbconvert_exporter": "python",
   "pygments_lexer": "ipython2",
   "version": "2.7.6"
  }
 },
 "nbformat": 4,
 "nbformat_minor": 5
}
