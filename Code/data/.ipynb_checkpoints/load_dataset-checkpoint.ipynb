{
 "cells": [
  {
   "metadata": {},
   "cell_type": "markdown",
   "source": "# 1 Packages",
   "id": "afdc0bd13522142b"
  },
  {
   "cell_type": "code",
   "id": "initial_id",
   "metadata": {
    "collapsed": true,
    "ExecuteTime": {
     "end_time": "2025-03-17T13:51:01.664629Z",
     "start_time": "2025-03-17T13:51:01.620006Z"
    }
   },
   "source": [
    "from ucimlrepo import fetch_ucirepo #Get the data from uciml\n",
    "import pandas as pd #to handle the data\n",
    "import seaborn as sns #to visualize data\n",
    "from sklearn.preprocessing import LabelEncoder, OneHotEncoder\n",
    "import numpy as np"
   ],
   "outputs": [],
   "execution_count": 6
  },
  {
   "metadata": {
    "ExecuteTime": {
     "end_time": "2025-03-17T13:51:01.977934Z",
     "start_time": "2025-03-17T13:51:01.974921Z"
    }
   },
   "cell_type": "code",
   "source": [
    "#Supress the warning vom urllib3 on MacOs\n",
    "import warnings\n",
    "warnings.filterwarnings(\"ignore\", category=UserWarning, module=\"urllib3\")"
   ],
   "id": "eddc1c589270db86",
   "outputs": [],
   "execution_count": 7
  },
  {
   "metadata": {},
   "cell_type": "markdown",
   "source": "# 2 Data",
   "id": "45e3fe2332a36a4b"
  },
  {
   "metadata": {},
   "cell_type": "markdown",
   "source": "## 2.1 Load and convert Dataset",
   "id": "39026ecf5bf8834c"
  },
  {
   "metadata": {
    "ExecuteTime": {
     "end_time": "2025-03-17T13:51:08.100305Z",
     "start_time": "2025-03-17T13:51:02.648656Z"
    }
   },
   "cell_type": "code",
   "source": [
    "# fetch dataset\n",
    "connect_4 = fetch_ucirepo(id=26)\n",
    "\n",
    "# metadata\n",
    "print(connect_4.metadata)\n",
    "\n",
    "# variable information\n",
    "print(connect_4.variables)"
   ],
   "id": "cd2a10b02e434152",
   "outputs": [
    {
     "name": "stdout",
     "output_type": "stream",
     "text": [
      "{'uci_id': 26, 'name': 'Connect-4', 'repository_url': 'https://archive.ics.uci.edu/dataset/26/connect+4', 'data_url': 'https://archive.ics.uci.edu/static/public/26/data.csv', 'abstract': 'Contains connect-4 positions', 'area': 'Games', 'tasks': ['Classification'], 'characteristics': ['Multivariate', 'Spatial'], 'num_instances': 67557, 'num_features': 42, 'feature_types': ['Categorical'], 'demographics': [], 'target_col': ['class'], 'index_col': None, 'has_missing_values': 'no', 'missing_values_symbol': None, 'year_of_dataset_creation': 1995, 'last_updated': 'Sat Mar 09 2024', 'dataset_doi': '10.24432/C59P43', 'creators': ['John Tromp'], 'intro_paper': None, 'additional_info': {'summary': 'This database contains all legal 8-ply positions in the game of connect-4 in which neither player has won yet, and in which the next move is not forced.\\r\\n\\r\\nx is the first player; o the second.\\r\\n\\r\\nThe outcome class is the game theoretical value for the first player.', 'purpose': None, 'funded_by': None, 'instances_represent': None, 'recommended_data_splits': None, 'sensitive_data': None, 'preprocessing_description': None, 'variable_info': 'Attribute Information: (x=player x has taken, o=player o has taken, b=blank)\\r\\n\\r\\nThe board is numbered like:\\r\\n6 . . . . . . .\\r\\n5 . . . . . . .\\r\\n4 . . . . . . .\\r\\n3 . . . . . . .\\r\\n2 . . . . . . .\\r\\n1 . . . . . . .\\r\\n a b c d e f g\\r\\n\\r\\n    1. a1: {x,o,b}\\r\\n    2. a2: {x,o,b}\\r\\n    3. a3: {x,o,b}\\r\\n    4. a4: {x,o,b}\\r\\n    5. a5: {x,o,b}\\r\\n    6. a6: {x,o,b}\\r\\n    7. b1: {x,o,b}\\r\\n    8. b2: {x,o,b}\\r\\n    9. b3: {x,o,b}\\r\\n   10. b4: {x,o,b}\\r\\n   11. b5: {x,o,b}\\r\\n   12. b6: {x,o,b}\\r\\n   13. c1: {x,o,b}\\r\\n   14. c2: {x,o,b}\\r\\n   15. c3: {x,o,b}\\r\\n   16. c4: {x,o,b}\\r\\n   17. c5: {x,o,b}\\r\\n   18. c6: {x,o,b}\\r\\n   19. d1: {x,o,b}\\r\\n   20. d2: {x,o,b}\\r\\n   21. d3: {x,o,b}\\r\\n   22. d4: {x,o,b}\\r\\n   23. d5: {x,o,b}\\r\\n   24. d6: {x,o,b}\\r\\n   25. e1: {x,o,b}\\r\\n   26. e2: {x,o,b}\\r\\n   27. e3: {x,o,b}\\r\\n   28. e4: {x,o,b}\\r\\n   29. e5: {x,o,b}\\r\\n   30. e6: {x,o,b}\\r\\n   31. f1: {x,o,b}\\r\\n   32. f2: {x,o,b}\\r\\n   33. f3: {x,o,b}\\r\\n   34. f4: {x,o,b}\\r\\n   35. f5: {x,o,b}\\r\\n   36. f6: {x,o,b}\\r\\n   37. g1: {x,o,b}\\r\\n   38. g2: {x,o,b}\\r\\n   39. g3: {x,o,b}\\r\\n   40. g4: {x,o,b}\\r\\n   41. g5: {x,o,b}\\r\\n   42. g6: {x,o,b}\\r\\n   43. Class: {win,loss,draw}', 'citation': None}}\n",
      "     name     role         type demographic description units missing_values\n",
      "0      a1  Feature  Categorical        None        None  None             no\n",
      "1      a2  Feature  Categorical        None        None  None             no\n",
      "2      a3  Feature  Categorical        None        None  None             no\n",
      "3      a4  Feature  Categorical        None        None  None             no\n",
      "4      a5  Feature  Categorical        None        None  None             no\n",
      "5      a6  Feature  Categorical        None        None  None             no\n",
      "6      b1  Feature  Categorical        None        None  None             no\n",
      "7      b2  Feature  Categorical        None        None  None             no\n",
      "8      b3  Feature  Categorical        None        None  None             no\n",
      "9      b4  Feature  Categorical        None        None  None             no\n",
      "10     b5  Feature  Categorical        None        None  None             no\n",
      "11     b6  Feature  Categorical        None        None  None             no\n",
      "12     c1  Feature  Categorical        None        None  None             no\n",
      "13     c2  Feature  Categorical        None        None  None             no\n",
      "14     c3  Feature  Categorical        None        None  None             no\n",
      "15     c4  Feature  Categorical        None        None  None             no\n",
      "16     c5  Feature  Categorical        None        None  None             no\n",
      "17     c6  Feature  Categorical        None        None  None             no\n",
      "18     d1  Feature  Categorical        None        None  None             no\n",
      "19     d2  Feature  Categorical        None        None  None             no\n",
      "20     d3  Feature  Categorical        None        None  None             no\n",
      "21     d4  Feature  Categorical        None        None  None             no\n",
      "22     d5  Feature  Categorical        None        None  None             no\n",
      "23     d6  Feature  Categorical        None        None  None             no\n",
      "24     e1  Feature  Categorical        None        None  None             no\n",
      "25     e2  Feature  Categorical        None        None  None             no\n",
      "26     e3  Feature  Categorical        None        None  None             no\n",
      "27     e4  Feature  Categorical        None        None  None             no\n",
      "28     e5  Feature  Categorical        None        None  None             no\n",
      "29     e6  Feature  Categorical        None        None  None             no\n",
      "30     f1  Feature  Categorical        None        None  None             no\n",
      "31     f2  Feature  Categorical        None        None  None             no\n",
      "32     f3  Feature  Categorical        None        None  None             no\n",
      "33     f4  Feature  Categorical        None        None  None             no\n",
      "34     f5  Feature  Categorical        None        None  None             no\n",
      "35     f6  Feature  Categorical        None        None  None             no\n",
      "36     g1  Feature  Categorical        None        None  None             no\n",
      "37     g2  Feature  Categorical        None        None  None             no\n",
      "38     g3  Feature  Categorical        None        None  None             no\n",
      "39     g4  Feature  Categorical        None        None  None             no\n",
      "40     g5  Feature  Categorical        None        None  None             no\n",
      "41     g6  Feature  Categorical        None        None  None             no\n",
      "42  class   Target  Categorical        None        None  None             no\n"
     ]
    }
   ],
   "execution_count": 8
  },
  {
   "metadata": {
    "ExecuteTime": {
     "end_time": "2025-03-17T13:51:08.110778Z",
     "start_time": "2025-03-17T13:51:08.105301Z"
    }
   },
   "cell_type": "code",
   "source": [
    "# Convert features and targets to pandas DataFrames\n",
    "X_pandas = pd.DataFrame(connect_4.data.features)\n",
    "y_pandas = pd.DataFrame(connect_4.data.targets)\n",
    "\n",
    "# Display the first few rows of the features\n",
    "print(X_pandas.head())\n",
    "\n",
    "# Display the first few rows of the target\n",
    "print(y_pandas.head())\n"
   ],
   "id": "92a271ffc9ec5c5d",
   "outputs": [
    {
     "name": "stdout",
     "output_type": "stream",
     "text": [
      "  a1 a2 a3 a4 a5 a6 b1 b2 b3 b4  ... f3 f4 f5 f6 g1 g2 g3 g4 g5 g6\n",
      "0  b  b  b  b  b  b  b  b  b  b  ...  b  b  b  b  b  b  b  b  b  b\n",
      "1  b  b  b  b  b  b  b  b  b  b  ...  b  b  b  b  b  b  b  b  b  b\n",
      "2  b  b  b  b  b  b  o  b  b  b  ...  b  b  b  b  b  b  b  b  b  b\n",
      "3  b  b  b  b  b  b  b  b  b  b  ...  b  b  b  b  b  b  b  b  b  b\n",
      "4  o  b  b  b  b  b  b  b  b  b  ...  b  b  b  b  b  b  b  b  b  b\n",
      "\n",
      "[5 rows x 42 columns]\n",
      "  class\n",
      "0   win\n",
      "1   win\n",
      "2   win\n",
      "3   win\n",
      "4   win\n"
     ]
    }
   ],
   "execution_count": 9
  },
  {
   "metadata": {},
   "cell_type": "markdown",
   "source": "## 2.2 Understand the data",
   "id": "c3b861c75b90a623"
  },
  {
   "metadata": {
    "ExecuteTime": {
     "end_time": "2025-03-17T13:51:08.267066Z",
     "start_time": "2025-03-17T13:51:08.145629Z"
    }
   },
   "cell_type": "code",
   "source": [
    "print(X_pandas.describe())\n",
    "print(y_pandas.describe())"
   ],
   "id": "a61ad65f4abefe84",
   "outputs": [
    {
     "name": "stdout",
     "output_type": "stream",
     "text": [
      "           a1     a2     a3     a4     a5     a6     b1     b2     b3     b4  \\\n",
      "count   67557  67557  67557  67557  67557  67557  67557  67557  67557  67557   \n",
      "unique      3      3      3      3      3      3      3      3      3      3   \n",
      "top         b      b      b      b      b      b      x      b      b      b   \n",
      "freq    24982  43385  55333  61616  65265  67040  25889  41180  54352  61206   \n",
      "\n",
      "        ...     f3     f4     f5     f6     g1     g2     g3     g4     g5  \\\n",
      "count   ...  67557  67557  67557  67557  67557  67557  67557  67557  67557   \n",
      "unique  ...      3      3      3      3      3      3      3      3      3   \n",
      "top     ...      b      b      b      b      b      b      b      b      b   \n",
      "freq    ...  60374  64839  66819  67469  29729  48104  58869  64301  66710   \n",
      "\n",
      "           g6  \n",
      "count   67557  \n",
      "unique      3  \n",
      "top         b  \n",
      "freq    67465  \n",
      "\n",
      "[4 rows x 42 columns]\n",
      "        class\n",
      "count   67557\n",
      "unique      3\n",
      "top       win\n",
      "freq    44473\n"
     ]
    }
   ],
   "execution_count": 10
  },
  {
   "metadata": {
    "ExecuteTime": {
     "end_time": "2025-03-17T13:51:08.354499Z",
     "start_time": "2025-03-17T13:51:08.296336Z"
    }
   },
   "cell_type": "code",
   "source": "print(X_pandas.info())",
   "id": "a55b35050c59d4ac",
   "outputs": [
    {
     "name": "stdout",
     "output_type": "stream",
     "text": [
      "<class 'pandas.core.frame.DataFrame'>\n",
      "RangeIndex: 67557 entries, 0 to 67556\n",
      "Data columns (total 42 columns):\n",
      " #   Column  Non-Null Count  Dtype \n",
      "---  ------  --------------  ----- \n",
      " 0   a1      67557 non-null  object\n",
      " 1   a2      67557 non-null  object\n",
      " 2   a3      67557 non-null  object\n",
      " 3   a4      67557 non-null  object\n",
      " 4   a5      67557 non-null  object\n",
      " 5   a6      67557 non-null  object\n",
      " 6   b1      67557 non-null  object\n",
      " 7   b2      67557 non-null  object\n",
      " 8   b3      67557 non-null  object\n",
      " 9   b4      67557 non-null  object\n",
      " 10  b5      67557 non-null  object\n",
      " 11  b6      67557 non-null  object\n",
      " 12  c1      67557 non-null  object\n",
      " 13  c2      67557 non-null  object\n",
      " 14  c3      67557 non-null  object\n",
      " 15  c4      67557 non-null  object\n",
      " 16  c5      67557 non-null  object\n",
      " 17  c6      67557 non-null  object\n",
      " 18  d1      67557 non-null  object\n",
      " 19  d2      67557 non-null  object\n",
      " 20  d3      67557 non-null  object\n",
      " 21  d4      67557 non-null  object\n",
      " 22  d5      67557 non-null  object\n",
      " 23  d6      67557 non-null  object\n",
      " 24  e1      67557 non-null  object\n",
      " 25  e2      67557 non-null  object\n",
      " 26  e3      67557 non-null  object\n",
      " 27  e4      67557 non-null  object\n",
      " 28  e5      67557 non-null  object\n",
      " 29  e6      67557 non-null  object\n",
      " 30  f1      67557 non-null  object\n",
      " 31  f2      67557 non-null  object\n",
      " 32  f3      67557 non-null  object\n",
      " 33  f4      67557 non-null  object\n",
      " 34  f5      67557 non-null  object\n",
      " 35  f6      67557 non-null  object\n",
      " 36  g1      67557 non-null  object\n",
      " 37  g2      67557 non-null  object\n",
      " 38  g3      67557 non-null  object\n",
      " 39  g4      67557 non-null  object\n",
      " 40  g5      67557 non-null  object\n",
      " 41  g6      67557 non-null  object\n",
      "dtypes: object(42)\n",
      "memory usage: 21.6+ MB\n",
      "None\n"
     ]
    }
   ],
   "execution_count": 11
  },
  {
   "metadata": {
    "ExecuteTime": {
     "end_time": "2025-03-17T13:51:08.391511Z",
     "start_time": "2025-03-17T13:51:08.386404Z"
    }
   },
   "cell_type": "code",
   "source": "print(y_pandas.info())",
   "id": "feb80241541231bb",
   "outputs": [
    {
     "name": "stdout",
     "output_type": "stream",
     "text": [
      "<class 'pandas.core.frame.DataFrame'>\n",
      "RangeIndex: 67557 entries, 0 to 67556\n",
      "Data columns (total 1 columns):\n",
      " #   Column  Non-Null Count  Dtype \n",
      "---  ------  --------------  ----- \n",
      " 0   class   67557 non-null  object\n",
      "dtypes: object(1)\n",
      "memory usage: 527.9+ KB\n",
      "None\n"
     ]
    }
   ],
   "execution_count": 12
  },
  {
   "metadata": {
    "ExecuteTime": {
     "end_time": "2025-03-17T13:51:08.476380Z",
     "start_time": "2025-03-17T13:51:08.423845Z"
    }
   },
   "cell_type": "code",
   "source": [
    "#Check for missing input values\n",
    "X_pandas.isnull().sum()"
   ],
   "id": "9842b6a263331bea",
   "outputs": [
    {
     "data": {
      "text/plain": [
       "a1    0\n",
       "a2    0\n",
       "a3    0\n",
       "a4    0\n",
       "a5    0\n",
       "a6    0\n",
       "b1    0\n",
       "b2    0\n",
       "b3    0\n",
       "b4    0\n",
       "b5    0\n",
       "b6    0\n",
       "c1    0\n",
       "c2    0\n",
       "c3    0\n",
       "c4    0\n",
       "c5    0\n",
       "c6    0\n",
       "d1    0\n",
       "d2    0\n",
       "d3    0\n",
       "d4    0\n",
       "d5    0\n",
       "d6    0\n",
       "e1    0\n",
       "e2    0\n",
       "e3    0\n",
       "e4    0\n",
       "e5    0\n",
       "e6    0\n",
       "f1    0\n",
       "f2    0\n",
       "f3    0\n",
       "f4    0\n",
       "f5    0\n",
       "f6    0\n",
       "g1    0\n",
       "g2    0\n",
       "g3    0\n",
       "g4    0\n",
       "g5    0\n",
       "g6    0\n",
       "dtype: int64"
      ]
     },
     "execution_count": 13,
     "metadata": {},
     "output_type": "execute_result"
    }
   ],
   "execution_count": 13
  },
  {
   "metadata": {
    "ExecuteTime": {
     "end_time": "2025-03-17T13:51:08.511622Z",
     "start_time": "2025-03-17T13:51:08.507185Z"
    }
   },
   "cell_type": "code",
   "source": [
    "#Check for missing output values\n",
    "y_pandas.isnull().sum()"
   ],
   "id": "466aeac945a16a6f",
   "outputs": [
    {
     "data": {
      "text/plain": [
       "class    0\n",
       "dtype: int64"
      ]
     },
     "execution_count": 14,
     "metadata": {},
     "output_type": "execute_result"
    }
   ],
   "execution_count": 14
  },
  {
   "metadata": {
    "ExecuteTime": {
     "end_time": "2025-03-17T13:51:08.535940Z",
     "start_time": "2025-03-17T13:51:08.534677Z"
    }
   },
   "cell_type": "code",
   "source": "",
   "id": "da9696241c54ee28",
   "outputs": [],
   "execution_count": null
  },
  {
   "metadata": {},
   "cell_type": "markdown",
   "source": "## 2.3 Preprocess Data\n",
   "id": "dd4efa06f0331c73"
  },
  {
   "metadata": {
    "ExecuteTime": {
     "end_time": "2025-03-17T13:51:08.760334Z",
     "start_time": "2025-03-17T13:51:08.539284Z"
    }
   },
   "cell_type": "code",
   "source": [
    "# Convert features (X) to numerical values\n",
    "# Using Label Encoding for simplicity\n",
    "label_encoder = LabelEncoder()\n",
    "X_encoded = X_pandas.apply(label_encoder.fit_transform)  # Encode each column\n",
    "\n",
    "# Convert target (y) to numerical values\n",
    "y_encoded = label_encoder.fit_transform(y_pandas.values.ravel())"
   ],
   "id": "9f7f3c645d18de17",
   "outputs": [],
   "execution_count": 15
  },
  {
   "metadata": {
    "ExecuteTime": {
     "end_time": "2025-03-17T13:51:08.940814Z",
     "start_time": "2025-03-17T13:51:08.784434Z"
    }
   },
   "cell_type": "code",
   "source": [
    "from sklearn.model_selection import train_test_split\n",
    "\n",
    "X_train, X_test, y_train, y_test = train_test_split(X_encoded, y_encoded, test_size=0.2, random_state=42)"
   ],
   "id": "e5dd0a143a1dd30",
   "outputs": [],
   "execution_count": 16
  },
  {
   "metadata": {
    "ExecuteTime": {
     "end_time": "2025-03-17T13:55:16.268582Z",
     "start_time": "2025-03-17T13:55:16.254272Z"
    }
   },
   "cell_type": "code",
   "source": [
    "#Convert to numpy arrays\n",
    "X_train = np.array(X_train)\n",
    "X_test = np.array(X_test)\n",
    "y_train = np.array(y_train)\n",
    "y_test = np.array(y_test)\n",
    "\n",
    "print(y_train.shape)"
   ],
   "id": "f445ff453ce3c030",
   "outputs": [
    {
     "name": "stdout",
     "output_type": "stream",
     "text": [
      "(54045,)\n"
     ]
    }
   ],
   "execution_count": 21
  },
  {
   "metadata": {},
   "cell_type": "markdown",
   "source": "## 3 Build a model\n",
   "id": "94e16a9648ed6143"
  },
  {
   "metadata": {
    "ExecuteTime": {
     "end_time": "2025-03-17T13:57:08.576927Z",
     "start_time": "2025-03-17T13:55:44.419277Z"
    }
   },
   "cell_type": "code",
   "source": [
    "from tensorflow.keras.models import Sequential\n",
    "from tensorflow.keras.layers import Dense, Dropout, Input\n",
    "import numpy as np\n",
    "\n",
    "# Define the model\n",
    "model = Sequential([\n",
    "    Input(shape=(X_train.shape[1],)),  # Add an Input layer\n",
    "    Dense(128, activation='relu'),\n",
    "    Dropout(0.2),\n",
    "    Dense(64, activation='relu'),\n",
    "    Dropout(0.2),\n",
    "    Dense(32, activation='relu'),\n",
    "    Dense(len(np.unique(y_train)), activation='softmax')  # Output layer for label encoded targets\n",
    "])\n",
    "\n",
    "# Compile the model\n",
    "model.compile(optimizer='adam', loss='sparse_categorical_crossentropy', metrics=['accuracy'])\n",
    "\n",
    "# Print the model summary\n",
    "model.summary()"
   ],
   "id": "d27721d22cec8c60",
   "outputs": [
    {
     "data": {
      "text/plain": [
       "\u001B[1mModel: \"sequential\"\u001B[0m\n"
      ],
      "text/html": [
       "<pre style=\"white-space:pre;overflow-x:auto;line-height:normal;font-family:Menlo,'DejaVu Sans Mono',consolas,'Courier New',monospace\"><span style=\"font-weight: bold\">Model: \"sequential\"</span>\n",
       "</pre>\n"
      ]
     },
     "metadata": {},
     "output_type": "display_data"
    },
    {
     "data": {
      "text/plain": [
       "┏━━━━━━━━━━━━━━━━━━━━━━━━━━━━━━━━━┳━━━━━━━━━━━━━━━━━━━━━━━━┳━━━━━━━━━━━━━━━┓\n",
       "┃\u001B[1m \u001B[0m\u001B[1mLayer (type)                   \u001B[0m\u001B[1m \u001B[0m┃\u001B[1m \u001B[0m\u001B[1mOutput Shape          \u001B[0m\u001B[1m \u001B[0m┃\u001B[1m \u001B[0m\u001B[1m      Param #\u001B[0m\u001B[1m \u001B[0m┃\n",
       "┡━━━━━━━━━━━━━━━━━━━━━━━━━━━━━━━━━╇━━━━━━━━━━━━━━━━━━━━━━━━╇━━━━━━━━━━━━━━━┩\n",
       "│ dense_9 (\u001B[38;5;33mDense\u001B[0m)                 │ (\u001B[38;5;45mNone\u001B[0m, \u001B[38;5;34m128\u001B[0m)            │         \u001B[38;5;34m5,504\u001B[0m │\n",
       "├─────────────────────────────────┼────────────────────────┼───────────────┤\n",
       "│ dropout_6 (\u001B[38;5;33mDropout\u001B[0m)             │ (\u001B[38;5;45mNone\u001B[0m, \u001B[38;5;34m128\u001B[0m)            │             \u001B[38;5;34m0\u001B[0m │\n",
       "├─────────────────────────────────┼────────────────────────┼───────────────┤\n",
       "│ dense_10 (\u001B[38;5;33mDense\u001B[0m)                │ (\u001B[38;5;45mNone\u001B[0m, \u001B[38;5;34m64\u001B[0m)             │         \u001B[38;5;34m8,256\u001B[0m │\n",
       "├─────────────────────────────────┼────────────────────────┼───────────────┤\n",
       "│ dropout_7 (\u001B[38;5;33mDropout\u001B[0m)             │ (\u001B[38;5;45mNone\u001B[0m, \u001B[38;5;34m64\u001B[0m)             │             \u001B[38;5;34m0\u001B[0m │\n",
       "├─────────────────────────────────┼────────────────────────┼───────────────┤\n",
       "│ dense_11 (\u001B[38;5;33mDense\u001B[0m)                │ (\u001B[38;5;45mNone\u001B[0m, \u001B[38;5;34m32\u001B[0m)             │         \u001B[38;5;34m2,080\u001B[0m │\n",
       "├─────────────────────────────────┼────────────────────────┼───────────────┤\n",
       "│ dense_12 (\u001B[38;5;33mDense\u001B[0m)                │ (\u001B[38;5;45mNone\u001B[0m, \u001B[38;5;34m3\u001B[0m)              │            \u001B[38;5;34m99\u001B[0m │\n",
       "└─────────────────────────────────┴────────────────────────┴───────────────┘\n"
      ],
      "text/html": [
       "<pre style=\"white-space:pre;overflow-x:auto;line-height:normal;font-family:Menlo,'DejaVu Sans Mono',consolas,'Courier New',monospace\">┏━━━━━━━━━━━━━━━━━━━━━━━━━━━━━━━━━┳━━━━━━━━━━━━━━━━━━━━━━━━┳━━━━━━━━━━━━━━━┓\n",
       "┃<span style=\"font-weight: bold\"> Layer (type)                    </span>┃<span style=\"font-weight: bold\"> Output Shape           </span>┃<span style=\"font-weight: bold\">       Param # </span>┃\n",
       "┡━━━━━━━━━━━━━━━━━━━━━━━━━━━━━━━━━╇━━━━━━━━━━━━━━━━━━━━━━━━╇━━━━━━━━━━━━━━━┩\n",
       "│ dense_9 (<span style=\"color: #0087ff; text-decoration-color: #0087ff\">Dense</span>)                 │ (<span style=\"color: #00d7ff; text-decoration-color: #00d7ff\">None</span>, <span style=\"color: #00af00; text-decoration-color: #00af00\">128</span>)            │         <span style=\"color: #00af00; text-decoration-color: #00af00\">5,504</span> │\n",
       "├─────────────────────────────────┼────────────────────────┼───────────────┤\n",
       "│ dropout_6 (<span style=\"color: #0087ff; text-decoration-color: #0087ff\">Dropout</span>)             │ (<span style=\"color: #00d7ff; text-decoration-color: #00d7ff\">None</span>, <span style=\"color: #00af00; text-decoration-color: #00af00\">128</span>)            │             <span style=\"color: #00af00; text-decoration-color: #00af00\">0</span> │\n",
       "├─────────────────────────────────┼────────────────────────┼───────────────┤\n",
       "│ dense_10 (<span style=\"color: #0087ff; text-decoration-color: #0087ff\">Dense</span>)                │ (<span style=\"color: #00d7ff; text-decoration-color: #00d7ff\">None</span>, <span style=\"color: #00af00; text-decoration-color: #00af00\">64</span>)             │         <span style=\"color: #00af00; text-decoration-color: #00af00\">8,256</span> │\n",
       "├─────────────────────────────────┼────────────────────────┼───────────────┤\n",
       "│ dropout_7 (<span style=\"color: #0087ff; text-decoration-color: #0087ff\">Dropout</span>)             │ (<span style=\"color: #00d7ff; text-decoration-color: #00d7ff\">None</span>, <span style=\"color: #00af00; text-decoration-color: #00af00\">64</span>)             │             <span style=\"color: #00af00; text-decoration-color: #00af00\">0</span> │\n",
       "├─────────────────────────────────┼────────────────────────┼───────────────┤\n",
       "│ dense_11 (<span style=\"color: #0087ff; text-decoration-color: #0087ff\">Dense</span>)                │ (<span style=\"color: #00d7ff; text-decoration-color: #00d7ff\">None</span>, <span style=\"color: #00af00; text-decoration-color: #00af00\">32</span>)             │         <span style=\"color: #00af00; text-decoration-color: #00af00\">2,080</span> │\n",
       "├─────────────────────────────────┼────────────────────────┼───────────────┤\n",
       "│ dense_12 (<span style=\"color: #0087ff; text-decoration-color: #0087ff\">Dense</span>)                │ (<span style=\"color: #00d7ff; text-decoration-color: #00d7ff\">None</span>, <span style=\"color: #00af00; text-decoration-color: #00af00\">3</span>)              │            <span style=\"color: #00af00; text-decoration-color: #00af00\">99</span> │\n",
       "└─────────────────────────────────┴────────────────────────┴───────────────┘\n",
       "</pre>\n"
      ]
     },
     "metadata": {},
     "output_type": "display_data"
    },
    {
     "data": {
      "text/plain": [
       "\u001B[1m Total params: \u001B[0m\u001B[38;5;34m15,939\u001B[0m (62.26 KB)\n"
      ],
      "text/html": [
       "<pre style=\"white-space:pre;overflow-x:auto;line-height:normal;font-family:Menlo,'DejaVu Sans Mono',consolas,'Courier New',monospace\"><span style=\"font-weight: bold\"> Total params: </span><span style=\"color: #00af00; text-decoration-color: #00af00\">15,939</span> (62.26 KB)\n",
       "</pre>\n"
      ]
     },
     "metadata": {},
     "output_type": "display_data"
    },
    {
     "data": {
      "text/plain": [
       "\u001B[1m Trainable params: \u001B[0m\u001B[38;5;34m15,939\u001B[0m (62.26 KB)\n"
      ],
      "text/html": [
       "<pre style=\"white-space:pre;overflow-x:auto;line-height:normal;font-family:Menlo,'DejaVu Sans Mono',consolas,'Courier New',monospace\"><span style=\"font-weight: bold\"> Trainable params: </span><span style=\"color: #00af00; text-decoration-color: #00af00\">15,939</span> (62.26 KB)\n",
       "</pre>\n"
      ]
     },
     "metadata": {},
     "output_type": "display_data"
    },
    {
     "data": {
      "text/plain": [
       "\u001B[1m Non-trainable params: \u001B[0m\u001B[38;5;34m0\u001B[0m (0.00 B)\n"
      ],
      "text/html": [
       "<pre style=\"white-space:pre;overflow-x:auto;line-height:normal;font-family:Menlo,'DejaVu Sans Mono',consolas,'Courier New',monospace\"><span style=\"font-weight: bold\"> Non-trainable params: </span><span style=\"color: #00af00; text-decoration-color: #00af00\">0</span> (0.00 B)\n",
       "</pre>\n"
      ]
     },
     "metadata": {},
     "output_type": "display_data"
    }
   ],
   "execution_count": 22
  },
  {
   "metadata": {
    "ExecuteTime": {
     "end_time": "2025-03-17T13:57:25.606220Z",
     "start_time": "2025-03-17T13:57:09.561660Z"
    }
   },
   "cell_type": "code",
   "source": "history = model.fit(X_train, y_train, epochs=20, batch_size=32, validation_split=0.2)",
   "id": "fdce9bf7ddd38c15",
   "outputs": [
    {
     "name": "stdout",
     "output_type": "stream",
     "text": [
      "Epoch 1/20\n",
      "\u001B[1m1352/1352\u001B[0m \u001B[32m━━━━━━━━━━━━━━━━━━━━\u001B[0m\u001B[37m\u001B[0m \u001B[1m1s\u001B[0m 584us/step - accuracy: 0.8025 - loss: 0.4975 - val_accuracy: 0.8079 - val_loss: 0.4835\n",
      "Epoch 2/20\n",
      "\u001B[1m1352/1352\u001B[0m \u001B[32m━━━━━━━━━━━━━━━━━━━━\u001B[0m\u001B[37m\u001B[0m \u001B[1m1s\u001B[0m 579us/step - accuracy: 0.7989 - loss: 0.5030 - val_accuracy: 0.8099 - val_loss: 0.4770\n",
      "Epoch 3/20\n",
      "\u001B[1m1352/1352\u001B[0m \u001B[32m━━━━━━━━━━━━━━━━━━━━\u001B[0m\u001B[37m\u001B[0m \u001B[1m1s\u001B[0m 578us/step - accuracy: 0.8012 - loss: 0.4983 - val_accuracy: 0.8108 - val_loss: 0.4749\n",
      "Epoch 4/20\n",
      "\u001B[1m1352/1352\u001B[0m \u001B[32m━━━━━━━━━━━━━━━━━━━━\u001B[0m\u001B[37m\u001B[0m \u001B[1m1s\u001B[0m 582us/step - accuracy: 0.7998 - loss: 0.4991 - val_accuracy: 0.8114 - val_loss: 0.4738\n",
      "Epoch 5/20\n",
      "\u001B[1m1352/1352\u001B[0m \u001B[32m━━━━━━━━━━━━━━━━━━━━\u001B[0m\u001B[37m\u001B[0m \u001B[1m1s\u001B[0m 580us/step - accuracy: 0.8035 - loss: 0.4918 - val_accuracy: 0.8116 - val_loss: 0.4700\n",
      "Epoch 6/20\n",
      "\u001B[1m1352/1352\u001B[0m \u001B[32m━━━━━━━━━━━━━━━━━━━━\u001B[0m\u001B[37m\u001B[0m \u001B[1m1s\u001B[0m 591us/step - accuracy: 0.8054 - loss: 0.4860 - val_accuracy: 0.8116 - val_loss: 0.4762\n",
      "Epoch 7/20\n",
      "\u001B[1m1352/1352\u001B[0m \u001B[32m━━━━━━━━━━━━━━━━━━━━\u001B[0m\u001B[37m\u001B[0m \u001B[1m1s\u001B[0m 583us/step - accuracy: 0.8106 - loss: 0.4821 - val_accuracy: 0.8154 - val_loss: 0.4730\n",
      "Epoch 8/20\n",
      "\u001B[1m1352/1352\u001B[0m \u001B[32m━━━━━━━━━━━━━━━━━━━━\u001B[0m\u001B[37m\u001B[0m \u001B[1m1s\u001B[0m 585us/step - accuracy: 0.8065 - loss: 0.4890 - val_accuracy: 0.8104 - val_loss: 0.4755\n",
      "Epoch 9/20\n",
      "\u001B[1m1352/1352\u001B[0m \u001B[32m━━━━━━━━━━━━━━━━━━━━\u001B[0m\u001B[37m\u001B[0m \u001B[1m1s\u001B[0m 586us/step - accuracy: 0.8011 - loss: 0.4901 - val_accuracy: 0.8126 - val_loss: 0.4756\n",
      "Epoch 10/20\n",
      "\u001B[1m1352/1352\u001B[0m \u001B[32m━━━━━━━━━━━━━━━━━━━━\u001B[0m\u001B[37m\u001B[0m \u001B[1m1s\u001B[0m 593us/step - accuracy: 0.8089 - loss: 0.4816 - val_accuracy: 0.8138 - val_loss: 0.4717\n",
      "Epoch 11/20\n",
      "\u001B[1m1352/1352\u001B[0m \u001B[32m━━━━━━━━━━━━━━━━━━━━\u001B[0m\u001B[37m\u001B[0m \u001B[1m1s\u001B[0m 591us/step - accuracy: 0.8045 - loss: 0.4865 - val_accuracy: 0.8136 - val_loss: 0.4708\n",
      "Epoch 12/20\n",
      "\u001B[1m1352/1352\u001B[0m \u001B[32m━━━━━━━━━━━━━━━━━━━━\u001B[0m\u001B[37m\u001B[0m \u001B[1m1s\u001B[0m 592us/step - accuracy: 0.8032 - loss: 0.4855 - val_accuracy: 0.8147 - val_loss: 0.4748\n",
      "Epoch 13/20\n",
      "\u001B[1m1352/1352\u001B[0m \u001B[32m━━━━━━━━━━━━━━━━━━━━\u001B[0m\u001B[37m\u001B[0m \u001B[1m1s\u001B[0m 590us/step - accuracy: 0.8115 - loss: 0.4783 - val_accuracy: 0.8139 - val_loss: 0.4692\n",
      "Epoch 14/20\n",
      "\u001B[1m1352/1352\u001B[0m \u001B[32m━━━━━━━━━━━━━━━━━━━━\u001B[0m\u001B[37m\u001B[0m \u001B[1m1s\u001B[0m 589us/step - accuracy: 0.8070 - loss: 0.4830 - val_accuracy: 0.8122 - val_loss: 0.4713\n",
      "Epoch 15/20\n",
      "\u001B[1m1352/1352\u001B[0m \u001B[32m━━━━━━━━━━━━━━━━━━━━\u001B[0m\u001B[37m\u001B[0m \u001B[1m1s\u001B[0m 586us/step - accuracy: 0.8089 - loss: 0.4812 - val_accuracy: 0.8126 - val_loss: 0.4714\n",
      "Epoch 16/20\n",
      "\u001B[1m1352/1352\u001B[0m \u001B[32m━━━━━━━━━━━━━━━━━━━━\u001B[0m\u001B[37m\u001B[0m \u001B[1m1s\u001B[0m 588us/step - accuracy: 0.8087 - loss: 0.4778 - val_accuracy: 0.8136 - val_loss: 0.4708\n",
      "Epoch 17/20\n",
      "\u001B[1m1352/1352\u001B[0m \u001B[32m━━━━━━━━━━━━━━━━━━━━\u001B[0m\u001B[37m\u001B[0m \u001B[1m1s\u001B[0m 586us/step - accuracy: 0.8070 - loss: 0.4789 - val_accuracy: 0.8143 - val_loss: 0.4689\n",
      "Epoch 18/20\n",
      "\u001B[1m1352/1352\u001B[0m \u001B[32m━━━━━━━━━━━━━━━━━━━━\u001B[0m\u001B[37m\u001B[0m \u001B[1m1s\u001B[0m 585us/step - accuracy: 0.8093 - loss: 0.4791 - val_accuracy: 0.8111 - val_loss: 0.4781\n",
      "Epoch 19/20\n",
      "\u001B[1m1352/1352\u001B[0m \u001B[32m━━━━━━━━━━━━━━━━━━━━\u001B[0m\u001B[37m\u001B[0m \u001B[1m1s\u001B[0m 583us/step - accuracy: 0.8129 - loss: 0.4675 - val_accuracy: 0.8138 - val_loss: 0.4720\n",
      "Epoch 20/20\n",
      "\u001B[1m1352/1352\u001B[0m \u001B[32m━━━━━━━━━━━━━━━━━━━━\u001B[0m\u001B[37m\u001B[0m \u001B[1m1s\u001B[0m 583us/step - accuracy: 0.8120 - loss: 0.4719 - val_accuracy: 0.8109 - val_loss: 0.4757\n"
     ]
    }
   ],
   "execution_count": 25
  },
  {
   "metadata": {
    "ExecuteTime": {
     "end_time": "2025-03-17T13:57:55.574078Z",
     "start_time": "2025-03-17T13:57:55.385531Z"
    }
   },
   "cell_type": "code",
   "source": [
    "loss, accuracy = model.evaluate(X_test, y_test)\n",
    "print(f\"Test Loss: {loss}\")\n",
    "print(f\"Test Accuracy: {accuracy}\")"
   ],
   "id": "244ab93fbd20f86",
   "outputs": [
    {
     "name": "stdout",
     "output_type": "stream",
     "text": [
      "\u001B[1m423/423\u001B[0m \u001B[32m━━━━━━━━━━━━━━━━━━━━\u001B[0m\u001B[37m\u001B[0m \u001B[1m0s\u001B[0m 359us/step - accuracy: 0.8141 - loss: 0.4765\n",
      "Test Loss: 0.4787389039993286\n",
      "Test Accuracy: 0.8116489052772522\n"
     ]
    }
   ],
   "execution_count": 27
  },
  {
   "metadata": {
    "ExecuteTime": {
     "end_time": "2025-03-17T13:58:07.948981Z",
     "start_time": "2025-03-17T13:58:07.733510Z"
    }
   },
   "cell_type": "code",
   "source": [
    "predictions = model.predict(X_test)\n",
    "predicted_labels = np.argmax(predictions, axis=1)  # Convert probabilities to labels"
   ],
   "id": "fb1e91c00894b912",
   "outputs": [
    {
     "name": "stdout",
     "output_type": "stream",
     "text": [
      "\u001B[1m423/423\u001B[0m \u001B[32m━━━━━━━━━━━━━━━━━━━━\u001B[0m\u001B[37m\u001B[0m \u001B[1m0s\u001B[0m 297us/step\n"
     ]
    }
   ],
   "execution_count": 28
  },
  {
   "metadata": {
    "ExecuteTime": {
     "end_time": "2025-03-17T13:58:29.935656Z",
     "start_time": "2025-03-17T13:58:29.932784Z"
    }
   },
   "cell_type": "code",
   "source": "print(predicted_labels)",
   "id": "c605cefbce1eaa1b",
   "outputs": [
    {
     "name": "stdout",
     "output_type": "stream",
     "text": [
      "[1 2 2 ... 1 2 2]\n"
     ]
    }
   ],
   "execution_count": 29
  },
  {
   "metadata": {
    "ExecuteTime": {
     "end_time": "2025-03-17T14:00:38.017977Z",
     "start_time": "2025-03-17T14:00:38.011427Z"
    }
   },
   "cell_type": "code",
   "source": [
    "import numpy as np\n",
    "\n",
    "class Connect4Game:\n",
    "    def __init__(self):\n",
    "        self.board = np.full((6, 7), ' ', dtype=str)  # 6 rows, 7 columns\n",
    "        self.current_player = 'x'  # Player 'x' starts\n",
    "\n",
    "    def display_board(self):\n",
    "        \"\"\"Display the current state of the board.\"\"\"\n",
    "        print(\"\\n\".join([\"|\".join(row) for row in self.board]))\n",
    "        print(\"-\" * 13)\n",
    "        print(\"1 2 3 4 5 6 7\")  # Column numbers for reference\n",
    "\n",
    "    def is_valid_move(self, column):\n",
    "        \"\"\"Check if a move is valid (i.e., the column is not full).\"\"\"\n",
    "        return self.board[0][column] == ' '\n",
    "\n",
    "    def make_move(self, column, player):\n",
    "        \"\"\"Make a move in the specified column for the given player.\"\"\"\n",
    "        for row in reversed(self.board):\n",
    "            if row[column] == ' ':\n",
    "                row[column] = player\n",
    "                break\n",
    "\n",
    "    def check_win(self, player):\n",
    "        \"\"\"Check if the current player has won.\"\"\"\n",
    "        # Check horizontal, vertical, and diagonal lines\n",
    "        for row in range(6):\n",
    "            for col in range(7):\n",
    "                if (col + 3 < 7 and all(self.board[row][col + i] == player for i in range(4))) or \\\n",
    "                   (row + 3 < 6 and all(self.board[row + i][col] == player for i in range(4))) or \\\n",
    "                   (row + 3 < 6 and col + 3 < 7 and all(self.board[row + i][col + i] == player for i in range(4))) or \\\n",
    "                   (row + 3 < 6 and col - 3 >= 0 and all(self.board[row + i][col - i] == player for i in range(4))):\n",
    "                    return True\n",
    "        return False\n",
    "\n",
    "    def check_draw(self):\n",
    "        \"\"\"Check if the game is a draw (i.e., the board is full).\"\"\"\n",
    "        return all(self.board[0][col] != ' ' for col in range(7))\n",
    "\n",
    "    def reset(self):\n",
    "        \"\"\"Reset the game board.\"\"\"\n",
    "        self.board = np.full((6, 7), ' ', dtype=str)\n",
    "        self.current_player = 'x'"
   ],
   "id": "e79f0dd14c60e62b",
   "outputs": [],
   "execution_count": 30
  },
  {
   "metadata": {
    "ExecuteTime": {
     "end_time": "2025-03-17T14:00:44.807055Z",
     "start_time": "2025-03-17T14:00:44.803997Z"
    }
   },
   "cell_type": "code",
   "source": [
    "def ai_make_move(model, game):\n",
    "    \"\"\"\n",
    "    Use the trained model to predict the best move for the AI.\n",
    "    \"\"\"\n",
    "    # Convert the board state to the input format expected by the model\n",
    "    board_state = game.board.flatten()\n",
    "    board_state = np.array([1 if cell == 'x' else -1 if cell == 'o' else 0 for cell in board_state])\n",
    "\n",
    "    # Predict the best move\n",
    "    predictions = model.predict(board_state.reshape(1, -1))\n",
    "    valid_moves = [col for col in range(7) if game.is_valid_move(col)]\n",
    "    best_move = valid_moves[np.argmax(predictions[0][valid_moves])]\n",
    "\n",
    "    return best_move"
   ],
   "id": "4d9816a40b9bb876",
   "outputs": [],
   "execution_count": 31
  },
  {
   "metadata": {
    "ExecuteTime": {
     "end_time": "2025-03-17T14:01:01.543768Z",
     "start_time": "2025-03-17T14:01:01.538325Z"
    }
   },
   "cell_type": "code",
   "source": [
    "def play_game(model):\n",
    "    \"\"\"Play a game of Connect-4 between a human and the AI.\"\"\"\n",
    "    game = Connect4Game()\n",
    "    game.display_board()\n",
    "\n",
    "    while True:\n",
    "        # Human's turn\n",
    "        if game.current_player == 'x':\n",
    "            try:\n",
    "                column = int(input(\"Your turn (1-7): \")) - 1\n",
    "                if not 0 <= column < 7 or not game.is_valid_move(column):\n",
    "                    print(\"Invalid move. Try again.\")\n",
    "                    continue\n",
    "            except ValueError:\n",
    "                print(\"Invalid input. Please enter a number between 1 and 7.\")\n",
    "                continue\n",
    "        # AI's turn\n",
    "        else:\n",
    "            column = ai_make_move(model, game)\n",
    "            print(f\"AI chooses column {column + 1}\")\n",
    "\n",
    "        # Make the move\n",
    "        game.make_move(column, game.current_player)\n",
    "        game.display_board()\n",
    "\n",
    "        # Check for win or draw\n",
    "        if game.check_win(game.current_player):\n",
    "            print(f\"Player {game.current_player} wins!\")\n",
    "            break\n",
    "        if game.check_draw():\n",
    "            print(\"It's a draw!\")\n",
    "            break\n",
    "\n",
    "        # Switch players\n",
    "        game.current_player = 'o' if game.current_player == 'x' else 'x'\n",
    "\n",
    "    # Ask to play again\n",
    "    if input(\"Play again? (y/n): \").lower() == 'y':\n",
    "        play_game(model)"
   ],
   "id": "80e8079a0cbd278b",
   "outputs": [],
   "execution_count": 33
  },
  {
   "metadata": {},
   "cell_type": "code",
   "outputs": [],
   "execution_count": null,
   "source": "",
   "id": "c76adafc9b658260"
  }
 ],
 "metadata": {
  "kernelspec": {
   "display_name": "Python 3",
   "language": "python",
   "name": "python3"
  },
  "language_info": {
   "codemirror_mode": {
    "name": "ipython",
    "version": 2
   },
   "file_extension": ".py",
   "mimetype": "text/x-python",
   "name": "python",
   "nbconvert_exporter": "python",
   "pygments_lexer": "ipython2",
   "version": "2.7.6"
  }
 },
 "nbformat": 4,
 "nbformat_minor": 5
}
