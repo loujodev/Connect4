{
 "cells": [
  {
   "cell_type": "code",
   "id": "initial_id",
   "metadata": {
    "collapsed": true,
    "ExecuteTime": {
     "end_time": "2025-03-24T18:00:26.521424Z",
     "start_time": "2025-03-24T18:00:26.499045Z"
    }
   },
   "source": [
    "from Code.machinelearning.get_game_data import load_data\n",
    "from Code.machinelearning.model import train_model, save_model, continue_training\n",
    "\n",
    "X, y = load_data('datasets/minimax_depth4_smartagent_500games.npz')\n",
    "model, history = train_model(X, y)\n",
    "\n",
    "X, y = load_data('datasets/minimax_depth4_smartagent_1000games.npz')\n",
    "continue_training(model, X, y)\n",
    "\n",
    "X, y = load_data('datasets/minimax_depth5_smartagent_100games.npz')\n",
    "continue_training(model, X, y)"
   ],
   "outputs": [
    {
     "ename": "ImportError",
     "evalue": "cannot import name 'continue_training' from 'Code.machinelearning.model' (/Users/louisjonas/PycharmProjects/Connect4/Code/machinelearning/model.py)",
     "output_type": "error",
     "traceback": [
      "\u001B[0;31m---------------------------------------------------------------------------\u001B[0m",
      "\u001B[0;31mImportError\u001B[0m                               Traceback (most recent call last)",
      "Cell \u001B[0;32mIn[7], line 2\u001B[0m\n\u001B[1;32m      1\u001B[0m \u001B[38;5;28;01mfrom\u001B[39;00m\u001B[38;5;250m \u001B[39m\u001B[38;5;21;01mCode\u001B[39;00m\u001B[38;5;21;01m.\u001B[39;00m\u001B[38;5;21;01mmachinelearning\u001B[39;00m\u001B[38;5;21;01m.\u001B[39;00m\u001B[38;5;21;01mget_game_data\u001B[39;00m\u001B[38;5;250m \u001B[39m\u001B[38;5;28;01mimport\u001B[39;00m load_data\n\u001B[0;32m----> 2\u001B[0m \u001B[38;5;28;01mfrom\u001B[39;00m\u001B[38;5;250m \u001B[39m\u001B[38;5;21;01mCode\u001B[39;00m\u001B[38;5;21;01m.\u001B[39;00m\u001B[38;5;21;01mmachinelearning\u001B[39;00m\u001B[38;5;21;01m.\u001B[39;00m\u001B[38;5;21;01mmodel\u001B[39;00m\u001B[38;5;250m \u001B[39m\u001B[38;5;28;01mimport\u001B[39;00m train_model, save_model, continue_training\n",
      "\u001B[0;31mImportError\u001B[0m: cannot import name 'continue_training' from 'Code.machinelearning.model' (/Users/louisjonas/PycharmProjects/Connect4/Code/machinelearning/model.py)"
     ]
    }
   ],
   "execution_count": 7
  },
  {
   "metadata": {
    "ExecuteTime": {
     "end_time": "2025-03-24T15:22:45.961186Z",
     "start_time": "2025-03-24T15:22:45.933029Z"
    }
   },
   "cell_type": "code",
   "source": "save_model(model, 'models/test_model.keras')",
   "id": "caab8e7d6a801dd0",
   "outputs": [
    {
     "name": "stdout",
     "output_type": "stream",
     "text": [
      "Model saved to models/test_model.keras\n"
     ]
    }
   ],
   "execution_count": 15
  },
  {
   "metadata": {},
   "cell_type": "code",
   "outputs": [],
   "execution_count": null,
   "source": "",
   "id": "e3421c55ce296fd2"
  }
 ],
 "metadata": {
  "kernelspec": {
   "display_name": "Python 3",
   "language": "python",
   "name": "python3"
  },
  "language_info": {
   "codemirror_mode": {
    "name": "ipython",
    "version": 2
   },
   "file_extension": ".py",
   "mimetype": "text/x-python",
   "name": "python",
   "nbconvert_exporter": "python",
   "pygments_lexer": "ipython2",
   "version": "2.7.6"
  }
 },
 "nbformat": 4,
 "nbformat_minor": 5
}
