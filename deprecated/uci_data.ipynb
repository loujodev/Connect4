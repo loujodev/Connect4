{
 "cells": [
  {
   "cell_type": "markdown",
   "id": "afdc0bd13522142b",
   "metadata": {},
   "source": [
    "# 1 Packages"
   ]
  },
  {
   "cell_type": "code",
   "id": "initial_id",
   "metadata": {
    "ExecuteTime": {
     "end_time": "2025-03-17T14:11:57.426281Z",
     "start_time": "2025-03-17T14:11:57.406779Z"
    }
   },
   "source": [
    "from ucimlrepo import fetch_ucirepo #Get the machinelearning from uciml\n",
    "import pandas as pd #to handle the machinelearning\n",
    "import seaborn as sns #to visualize machinelearning\n",
    "from sklearn.preprocessing import LabelEncoder, OneHotEncoder\n",
    "import numpy as np"
   ],
   "outputs": [],
   "execution_count": 4
  },
  {
   "cell_type": "code",
   "id": "eddc1c589270db86",
   "metadata": {
    "ExecuteTime": {
     "end_time": "2025-03-17T14:11:57.621147Z",
     "start_time": "2025-03-17T14:11:57.617687Z"
    }
   },
   "source": [
    "#Supress the warning vom urllib3 on MacOs\n",
    "import warnings\n",
    "warnings.filterwarnings(\"ignore\", category=UserWarning, module=\"urllib3\")"
   ],
   "outputs": [],
   "execution_count": 5
  },
  {
   "cell_type": "markdown",
   "id": "45e3fe2332a36a4b",
   "metadata": {},
   "source": [
    "# 2 Data"
   ]
  },
  {
   "cell_type": "markdown",
   "id": "39026ecf5bf8834c",
   "metadata": {},
   "source": [
    "## 2.1 Load and convert Dataset"
   ]
  },
  {
   "cell_type": "code",
   "id": "cd2a10b02e434152",
   "metadata": {
    "ExecuteTime": {
     "end_time": "2025-03-17T14:12:14.932752Z",
     "start_time": "2025-03-17T14:11:58.046247Z"
    }
   },
   "source": [
    "# fetch dataset\n",
    "connect_4 = fetch_ucirepo(id=26)\n",
    "\n",
    "# metadata\n",
    "print(connect_4.metadata)\n",
    "\n",
    "# variable information\n",
    "print(connect_4.variables)"
   ],
   "outputs": [
    {
     "name": "stdout",
     "output_type": "stream",
     "text": [
      "{'uci_id': 26, 'name': 'Connect-4', 'repository_url': 'https://archive.ics.uci.edu/dataset/26/connect+4', 'data_url': 'https://archive.ics.uci.edu/static/public/26/data.csv', 'abstract': 'Contains connect-4 positions', 'area': 'Games', 'tasks': ['Classification'], 'characteristics': ['Multivariate', 'Spatial'], 'num_instances': 67557, 'num_features': 42, 'feature_types': ['Categorical'], 'demographics': [], 'target_col': ['class'], 'index_col': None, 'has_missing_values': 'no', 'missing_values_symbol': None, 'year_of_dataset_creation': 1995, 'last_updated': 'Sat Mar 09 2024', 'dataset_doi': '10.24432/C59P43', 'creators': ['John Tromp'], 'intro_paper': None, 'additional_info': {'summary': 'This database contains all legal 8-ply positions in the game of connect-4 in which neither player has won yet, and in which the next move is not forced.\\r\\n\\r\\nx is the first player; o the second.\\r\\n\\r\\nThe outcome class is the game theoretical value for the first player.', 'purpose': None, 'funded_by': None, 'instances_represent': None, 'recommended_data_splits': None, 'sensitive_data': None, 'preprocessing_description': None, 'variable_info': 'Attribute Information: (x=player x has taken, o=player o has taken, b=blank)\\r\\n\\r\\nThe board is numbered like:\\r\\n6 . . . . . . .\\r\\n5 . . . . . . .\\r\\n4 . . . . . . .\\r\\n3 . . . . . . .\\r\\n2 . . . . . . .\\r\\n1 . . . . . . .\\r\\n a b c d e f g\\r\\n\\r\\n    1. a1: {x,o,b}\\r\\n    2. a2: {x,o,b}\\r\\n    3. a3: {x,o,b}\\r\\n    4. a4: {x,o,b}\\r\\n    5. a5: {x,o,b}\\r\\n    6. a6: {x,o,b}\\r\\n    7. b1: {x,o,b}\\r\\n    8. b2: {x,o,b}\\r\\n    9. b3: {x,o,b}\\r\\n   10. b4: {x,o,b}\\r\\n   11. b5: {x,o,b}\\r\\n   12. b6: {x,o,b}\\r\\n   13. c1: {x,o,b}\\r\\n   14. c2: {x,o,b}\\r\\n   15. c3: {x,o,b}\\r\\n   16. c4: {x,o,b}\\r\\n   17. c5: {x,o,b}\\r\\n   18. c6: {x,o,b}\\r\\n   19. d1: {x,o,b}\\r\\n   20. d2: {x,o,b}\\r\\n   21. d3: {x,o,b}\\r\\n   22. d4: {x,o,b}\\r\\n   23. d5: {x,o,b}\\r\\n   24. d6: {x,o,b}\\r\\n   25. e1: {x,o,b}\\r\\n   26. e2: {x,o,b}\\r\\n   27. e3: {x,o,b}\\r\\n   28. e4: {x,o,b}\\r\\n   29. e5: {x,o,b}\\r\\n   30. e6: {x,o,b}\\r\\n   31. f1: {x,o,b}\\r\\n   32. f2: {x,o,b}\\r\\n   33. f3: {x,o,b}\\r\\n   34. f4: {x,o,b}\\r\\n   35. f5: {x,o,b}\\r\\n   36. f6: {x,o,b}\\r\\n   37. g1: {x,o,b}\\r\\n   38. g2: {x,o,b}\\r\\n   39. g3: {x,o,b}\\r\\n   40. g4: {x,o,b}\\r\\n   41. g5: {x,o,b}\\r\\n   42. g6: {x,o,b}\\r\\n   43. Class: {win,loss,draw}', 'citation': None}}\n",
      "     name     role         type demographic description units missing_values\n",
      "0      a1  Feature  Categorical        None        None  None             no\n",
      "1      a2  Feature  Categorical        None        None  None             no\n",
      "2      a3  Feature  Categorical        None        None  None             no\n",
      "3      a4  Feature  Categorical        None        None  None             no\n",
      "4      a5  Feature  Categorical        None        None  None             no\n",
      "5      a6  Feature  Categorical        None        None  None             no\n",
      "6      b1  Feature  Categorical        None        None  None             no\n",
      "7      b2  Feature  Categorical        None        None  None             no\n",
      "8      b3  Feature  Categorical        None        None  None             no\n",
      "9      b4  Feature  Categorical        None        None  None             no\n",
      "10     b5  Feature  Categorical        None        None  None             no\n",
      "11     b6  Feature  Categorical        None        None  None             no\n",
      "12     c1  Feature  Categorical        None        None  None             no\n",
      "13     c2  Feature  Categorical        None        None  None             no\n",
      "14     c3  Feature  Categorical        None        None  None             no\n",
      "15     c4  Feature  Categorical        None        None  None             no\n",
      "16     c5  Feature  Categorical        None        None  None             no\n",
      "17     c6  Feature  Categorical        None        None  None             no\n",
      "18     d1  Feature  Categorical        None        None  None             no\n",
      "19     d2  Feature  Categorical        None        None  None             no\n",
      "20     d3  Feature  Categorical        None        None  None             no\n",
      "21     d4  Feature  Categorical        None        None  None             no\n",
      "22     d5  Feature  Categorical        None        None  None             no\n",
      "23     d6  Feature  Categorical        None        None  None             no\n",
      "24     e1  Feature  Categorical        None        None  None             no\n",
      "25     e2  Feature  Categorical        None        None  None             no\n",
      "26     e3  Feature  Categorical        None        None  None             no\n",
      "27     e4  Feature  Categorical        None        None  None             no\n",
      "28     e5  Feature  Categorical        None        None  None             no\n",
      "29     e6  Feature  Categorical        None        None  None             no\n",
      "30     f1  Feature  Categorical        None        None  None             no\n",
      "31     f2  Feature  Categorical        None        None  None             no\n",
      "32     f3  Feature  Categorical        None        None  None             no\n",
      "33     f4  Feature  Categorical        None        None  None             no\n",
      "34     f5  Feature  Categorical        None        None  None             no\n",
      "35     f6  Feature  Categorical        None        None  None             no\n",
      "36     g1  Feature  Categorical        None        None  None             no\n",
      "37     g2  Feature  Categorical        None        None  None             no\n",
      "38     g3  Feature  Categorical        None        None  None             no\n",
      "39     g4  Feature  Categorical        None        None  None             no\n",
      "40     g5  Feature  Categorical        None        None  None             no\n",
      "41     g6  Feature  Categorical        None        None  None             no\n",
      "42  class   Target  Categorical        None        None  None             no\n"
     ]
    }
   ],
   "execution_count": 6
  },
  {
   "cell_type": "code",
   "id": "92a271ffc9ec5c5d",
   "metadata": {
    "ExecuteTime": {
     "end_time": "2025-03-17T14:12:14.950066Z",
     "start_time": "2025-03-17T14:12:14.943840Z"
    }
   },
   "source": [
    "# Convert features and targets to pandas DataFrames\n",
    "X_pandas = pd.DataFrame(connect_4.data.features)\n",
    "y_pandas = pd.DataFrame(connect_4.data.targets)\n",
    "\n",
    "# Display the first few rows of the features\n",
    "print(X_pandas.head())\n",
    "\n",
    "# Display the first few rows of the target\n",
    "print(y_pandas.head())\n"
   ],
   "outputs": [
    {
     "name": "stdout",
     "output_type": "stream",
     "text": [
      "  a1 a2 a3 a4 a5 a6 b1 b2 b3 b4  ... f3 f4 f5 f6 g1 g2 g3 g4 g5 g6\n",
      "0  b  b  b  b  b  b  b  b  b  b  ...  b  b  b  b  b  b  b  b  b  b\n",
      "1  b  b  b  b  b  b  b  b  b  b  ...  b  b  b  b  b  b  b  b  b  b\n",
      "2  b  b  b  b  b  b  o  b  b  b  ...  b  b  b  b  b  b  b  b  b  b\n",
      "3  b  b  b  b  b  b  b  b  b  b  ...  b  b  b  b  b  b  b  b  b  b\n",
      "4  o  b  b  b  b  b  b  b  b  b  ...  b  b  b  b  b  b  b  b  b  b\n",
      "\n",
      "[5 rows x 42 columns]\n",
      "  class\n",
      "0   win\n",
      "1   win\n",
      "2   win\n",
      "3   win\n",
      "4   win\n"
     ]
    }
   ],
   "execution_count": 7
  },
  {
   "cell_type": "markdown",
   "id": "c3b861c75b90a623",
   "metadata": {},
   "source": [
    "## 2.2 Understand the data"
   ]
  },
  {
   "cell_type": "code",
   "id": "a61ad65f4abefe84",
   "metadata": {
    "ExecuteTime": {
     "end_time": "2025-03-17T14:12:15.107905Z",
     "start_time": "2025-03-17T14:12:14.985472Z"
    }
   },
   "source": [
    "print(X_pandas.describe())\n",
    "print(y_pandas.describe())"
   ],
   "outputs": [
    {
     "name": "stdout",
     "output_type": "stream",
     "text": [
      "           a1     a2     a3     a4     a5     a6     b1     b2     b3     b4  \\\n",
      "count   67557  67557  67557  67557  67557  67557  67557  67557  67557  67557   \n",
      "unique      3      3      3      3      3      3      3      3      3      3   \n",
      "top         b      b      b      b      b      b      x      b      b      b   \n",
      "freq    24982  43385  55333  61616  65265  67040  25889  41180  54352  61206   \n",
      "\n",
      "        ...     f3     f4     f5     f6     g1     g2     g3     g4     g5  \\\n",
      "count   ...  67557  67557  67557  67557  67557  67557  67557  67557  67557   \n",
      "unique  ...      3      3      3      3      3      3      3      3      3   \n",
      "top     ...      b      b      b      b      b      b      b      b      b   \n",
      "freq    ...  60374  64839  66819  67469  29729  48104  58869  64301  66710   \n",
      "\n",
      "           g6  \n",
      "count   67557  \n",
      "unique      3  \n",
      "top         b  \n",
      "freq    67465  \n",
      "\n",
      "[4 rows x 42 columns]\n",
      "        class\n",
      "count   67557\n",
      "unique      3\n",
      "top       win\n",
      "freq    44473\n"
     ]
    }
   ],
   "execution_count": 8
  },
  {
   "cell_type": "code",
   "id": "a55b35050c59d4ac",
   "metadata": {
    "ExecuteTime": {
     "end_time": "2025-03-17T14:12:15.191798Z",
     "start_time": "2025-03-17T14:12:15.138798Z"
    }
   },
   "source": [
    "print(X_pandas.info())"
   ],
   "outputs": [
    {
     "name": "stdout",
     "output_type": "stream",
     "text": [
      "<class 'pandas.core.frame.DataFrame'>\n",
      "RangeIndex: 67557 entries, 0 to 67556\n",
      "Data columns (total 42 columns):\n",
      " #   Column  Non-Null Count  Dtype \n",
      "---  ------  --------------  ----- \n",
      " 0   a1      67557 non-null  object\n",
      " 1   a2      67557 non-null  object\n",
      " 2   a3      67557 non-null  object\n",
      " 3   a4      67557 non-null  object\n",
      " 4   a5      67557 non-null  object\n",
      " 5   a6      67557 non-null  object\n",
      " 6   b1      67557 non-null  object\n",
      " 7   b2      67557 non-null  object\n",
      " 8   b3      67557 non-null  object\n",
      " 9   b4      67557 non-null  object\n",
      " 10  b5      67557 non-null  object\n",
      " 11  b6      67557 non-null  object\n",
      " 12  c1      67557 non-null  object\n",
      " 13  c2      67557 non-null  object\n",
      " 14  c3      67557 non-null  object\n",
      " 15  c4      67557 non-null  object\n",
      " 16  c5      67557 non-null  object\n",
      " 17  c6      67557 non-null  object\n",
      " 18  d1      67557 non-null  object\n",
      " 19  d2      67557 non-null  object\n",
      " 20  d3      67557 non-null  object\n",
      " 21  d4      67557 non-null  object\n",
      " 22  d5      67557 non-null  object\n",
      " 23  d6      67557 non-null  object\n",
      " 24  e1      67557 non-null  object\n",
      " 25  e2      67557 non-null  object\n",
      " 26  e3      67557 non-null  object\n",
      " 27  e4      67557 non-null  object\n",
      " 28  e5      67557 non-null  object\n",
      " 29  e6      67557 non-null  object\n",
      " 30  f1      67557 non-null  object\n",
      " 31  f2      67557 non-null  object\n",
      " 32  f3      67557 non-null  object\n",
      " 33  f4      67557 non-null  object\n",
      " 34  f5      67557 non-null  object\n",
      " 35  f6      67557 non-null  object\n",
      " 36  g1      67557 non-null  object\n",
      " 37  g2      67557 non-null  object\n",
      " 38  g3      67557 non-null  object\n",
      " 39  g4      67557 non-null  object\n",
      " 40  g5      67557 non-null  object\n",
      " 41  g6      67557 non-null  object\n",
      "dtypes: object(42)\n",
      "memory usage: 21.6+ MB\n",
      "None\n"
     ]
    }
   ],
   "execution_count": 9
  },
  {
   "cell_type": "code",
   "id": "feb80241541231bb",
   "metadata": {
    "ExecuteTime": {
     "end_time": "2025-03-17T14:12:15.229254Z",
     "start_time": "2025-03-17T14:12:15.224060Z"
    }
   },
   "source": [
    "print(y_pandas.info())"
   ],
   "outputs": [
    {
     "name": "stdout",
     "output_type": "stream",
     "text": [
      "<class 'pandas.core.frame.DataFrame'>\n",
      "RangeIndex: 67557 entries, 0 to 67556\n",
      "Data columns (total 1 columns):\n",
      " #   Column  Non-Null Count  Dtype \n",
      "---  ------  --------------  ----- \n",
      " 0   class   67557 non-null  object\n",
      "dtypes: object(1)\n",
      "memory usage: 527.9+ KB\n",
      "None\n"
     ]
    }
   ],
   "execution_count": 10
  },
  {
   "cell_type": "code",
   "id": "9842b6a263331bea",
   "metadata": {
    "ExecuteTime": {
     "end_time": "2025-03-17T14:12:15.311756Z",
     "start_time": "2025-03-17T14:12:15.259662Z"
    }
   },
   "source": [
    "#Check for missing input values\n",
    "X_pandas.isnull().sum()"
   ],
   "outputs": [
    {
     "data": {
      "text/plain": [
       "a1    0\n",
       "a2    0\n",
       "a3    0\n",
       "a4    0\n",
       "a5    0\n",
       "a6    0\n",
       "b1    0\n",
       "b2    0\n",
       "b3    0\n",
       "b4    0\n",
       "b5    0\n",
       "b6    0\n",
       "c1    0\n",
       "c2    0\n",
       "c3    0\n",
       "c4    0\n",
       "c5    0\n",
       "c6    0\n",
       "d1    0\n",
       "d2    0\n",
       "d3    0\n",
       "d4    0\n",
       "d5    0\n",
       "d6    0\n",
       "e1    0\n",
       "e2    0\n",
       "e3    0\n",
       "e4    0\n",
       "e5    0\n",
       "e6    0\n",
       "f1    0\n",
       "f2    0\n",
       "f3    0\n",
       "f4    0\n",
       "f5    0\n",
       "f6    0\n",
       "g1    0\n",
       "g2    0\n",
       "g3    0\n",
       "g4    0\n",
       "g5    0\n",
       "g6    0\n",
       "dtype: int64"
      ]
     },
     "execution_count": 11,
     "metadata": {},
     "output_type": "execute_result"
    }
   ],
   "execution_count": 11
  },
  {
   "cell_type": "code",
   "id": "466aeac945a16a6f",
   "metadata": {
    "ExecuteTime": {
     "end_time": "2025-03-17T14:12:15.369980Z",
     "start_time": "2025-03-17T14:12:15.365321Z"
    }
   },
   "source": [
    "#Check for missing output values\n",
    "y_pandas.isnull().sum()"
   ],
   "outputs": [
    {
     "data": {
      "text/plain": [
       "class    0\n",
       "dtype: int64"
      ]
     },
     "execution_count": 12,
     "metadata": {},
     "output_type": "execute_result"
    }
   ],
   "execution_count": 12
  },
  {
   "cell_type": "code",
   "id": "da9696241c54ee28",
   "metadata": {
    "ExecuteTime": {
     "end_time": "2025-03-17T14:12:15.401538Z",
     "start_time": "2025-03-17T14:12:15.399473Z"
    }
   },
   "source": [],
   "outputs": [],
   "execution_count": null
  },
  {
   "cell_type": "markdown",
   "id": "dd4efa06f0331c73",
   "metadata": {},
   "source": [
    "## 2.3 Preprocess Data\n"
   ]
  },
  {
   "cell_type": "code",
   "id": "9f7f3c645d18de17",
   "metadata": {
    "ExecuteTime": {
     "end_time": "2025-03-17T14:12:15.636329Z",
     "start_time": "2025-03-17T14:12:15.418923Z"
    }
   },
   "source": [
    "# Convert features (X) to numerical values\n",
    "# Using Label Encoding for simplicity\n",
    "label_encoder = LabelEncoder()\n",
    "X_encoded = X_pandas.apply(label_encoder.fit_transform)  # Encode each column\n",
    "\n",
    "# Convert target (y) to numerical values\n",
    "y_encoded = label_encoder.fit_transform(y_pandas.values.ravel())"
   ],
   "outputs": [],
   "execution_count": 13
  },
  {
   "cell_type": "code",
   "id": "e5dd0a143a1dd30",
   "metadata": {
    "ExecuteTime": {
     "end_time": "2025-03-17T14:12:15.714304Z",
     "start_time": "2025-03-17T14:12:15.657380Z"
    }
   },
   "source": [
    "from sklearn.model_selection import train_test_split\n",
    "\n",
    "X_train, X_test, y_train, y_test = train_test_split(X_encoded, y_encoded, test_size=0.2, random_state=42)"
   ],
   "outputs": [],
   "execution_count": 14
  },
  {
   "cell_type": "code",
   "id": "f445ff453ce3c030",
   "metadata": {
    "ExecuteTime": {
     "end_time": "2025-03-17T14:12:15.741168Z",
     "start_time": "2025-03-17T14:12:15.736252Z"
    }
   },
   "source": [
    "#Convert to numpy arrays\n",
    "X_train = np.array(X_train)\n",
    "X_test = np.array(X_test)\n",
    "y_train = np.array(y_train)\n",
    "y_test = np.array(y_test)\n"
   ],
   "outputs": [],
   "execution_count": 15
  },
  {
   "cell_type": "markdown",
   "id": "94e16a9648ed6143",
   "metadata": {},
   "source": [
    "## 3 Build a model\n"
   ]
  },
  {
   "cell_type": "code",
   "id": "d27721d22cec8c60",
   "metadata": {
    "ExecuteTime": {
     "end_time": "2025-03-17T14:23:39.098669Z",
     "start_time": "2025-03-17T14:23:39.055917Z"
    }
   },
   "source": [
    "from tensorflow.keras.models import Sequential\n",
    "from tensorflow.keras.layers import Dense, Dropout, Input\n",
    "import numpy as np\n",
    "\n",
    "# Define the model\n",
    "model = Sequential([\n",
    "    Input(shape=(X_train.shape[1],)),  # Add an Input layer\n",
    "    Dense(128, activation='relu'),\n",
    "    Dropout(0.2),\n",
    "    Dense(64, activation='relu'),\n",
    "    Dropout(0.2),\n",
    "    Dense(32, activation='relu'),\n",
    "    Dense(len(np.unique(y_train)), activation='softmax')  # Output layer for label encoded targets\n",
    "])\n",
    "\n",
    "# Compile the model\n",
    "model.compile(optimizer='adam', loss='sparse_categorical_crossentropy', metrics=['accuracy'])\n",
    "\n",
    "# Print the model summary\n",
    "model.summary()"
   ],
   "outputs": [
    {
     "data": {
      "text/plain": [
       "\u001B[1mModel: \"sequential_2\"\u001B[0m\n"
      ],
      "text/html": [
       "<pre style=\"white-space:pre;overflow-x:auto;line-height:normal;font-family:Menlo,'DejaVu Sans Mono',consolas,'Courier New',monospace\"><span style=\"font-weight: bold\">Model: \"sequential_2\"</span>\n",
       "</pre>\n"
      ]
     },
     "metadata": {},
     "output_type": "display_data"
    },
    {
     "data": {
      "text/plain": [
       "┏━━━━━━━━━━━━━━━━━━━━━━━━━━━━━━━━━┳━━━━━━━━━━━━━━━━━━━━━━━━┳━━━━━━━━━━━━━━━┓\n",
       "┃\u001B[1m \u001B[0m\u001B[1mLayer (type)                   \u001B[0m\u001B[1m \u001B[0m┃\u001B[1m \u001B[0m\u001B[1mOutput Shape          \u001B[0m\u001B[1m \u001B[0m┃\u001B[1m \u001B[0m\u001B[1m      Param #\u001B[0m\u001B[1m \u001B[0m┃\n",
       "┡━━━━━━━━━━━━━━━━━━━━━━━━━━━━━━━━━╇━━━━━━━━━━━━━━━━━━━━━━━━╇━━━━━━━━━━━━━━━┩\n",
       "│ dense_8 (\u001B[38;5;33mDense\u001B[0m)                 │ (\u001B[38;5;45mNone\u001B[0m, \u001B[38;5;34m128\u001B[0m)            │         \u001B[38;5;34m5,504\u001B[0m │\n",
       "├─────────────────────────────────┼────────────────────────┼───────────────┤\n",
       "│ dense_9 (\u001B[38;5;33mDense\u001B[0m)                 │ (\u001B[38;5;45mNone\u001B[0m, \u001B[38;5;34m64\u001B[0m)             │         \u001B[38;5;34m8,256\u001B[0m │\n",
       "├─────────────────────────────────┼────────────────────────┼───────────────┤\n",
       "│ dense_10 (\u001B[38;5;33mDense\u001B[0m)                │ (\u001B[38;5;45mNone\u001B[0m, \u001B[38;5;34m32\u001B[0m)             │         \u001B[38;5;34m2,080\u001B[0m │\n",
       "├─────────────────────────────────┼────────────────────────┼───────────────┤\n",
       "│ dense_11 (\u001B[38;5;33mDense\u001B[0m)                │ (\u001B[38;5;45mNone\u001B[0m, \u001B[38;5;34m3\u001B[0m)              │            \u001B[38;5;34m99\u001B[0m │\n",
       "└─────────────────────────────────┴────────────────────────┴───────────────┘\n"
      ],
      "text/html": [
       "<pre style=\"white-space:pre;overflow-x:auto;line-height:normal;font-family:Menlo,'DejaVu Sans Mono',consolas,'Courier New',monospace\">┏━━━━━━━━━━━━━━━━━━━━━━━━━━━━━━━━━┳━━━━━━━━━━━━━━━━━━━━━━━━┳━━━━━━━━━━━━━━━┓\n",
       "┃<span style=\"font-weight: bold\"> Layer (type)                    </span>┃<span style=\"font-weight: bold\"> Output Shape           </span>┃<span style=\"font-weight: bold\">       Param # </span>┃\n",
       "┡━━━━━━━━━━━━━━━━━━━━━━━━━━━━━━━━━╇━━━━━━━━━━━━━━━━━━━━━━━━╇━━━━━━━━━━━━━━━┩\n",
       "│ dense_8 (<span style=\"color: #0087ff; text-decoration-color: #0087ff\">Dense</span>)                 │ (<span style=\"color: #00d7ff; text-decoration-color: #00d7ff\">None</span>, <span style=\"color: #00af00; text-decoration-color: #00af00\">128</span>)            │         <span style=\"color: #00af00; text-decoration-color: #00af00\">5,504</span> │\n",
       "├─────────────────────────────────┼────────────────────────┼───────────────┤\n",
       "│ dense_9 (<span style=\"color: #0087ff; text-decoration-color: #0087ff\">Dense</span>)                 │ (<span style=\"color: #00d7ff; text-decoration-color: #00d7ff\">None</span>, <span style=\"color: #00af00; text-decoration-color: #00af00\">64</span>)             │         <span style=\"color: #00af00; text-decoration-color: #00af00\">8,256</span> │\n",
       "├─────────────────────────────────┼────────────────────────┼───────────────┤\n",
       "│ dense_10 (<span style=\"color: #0087ff; text-decoration-color: #0087ff\">Dense</span>)                │ (<span style=\"color: #00d7ff; text-decoration-color: #00d7ff\">None</span>, <span style=\"color: #00af00; text-decoration-color: #00af00\">32</span>)             │         <span style=\"color: #00af00; text-decoration-color: #00af00\">2,080</span> │\n",
       "├─────────────────────────────────┼────────────────────────┼───────────────┤\n",
       "│ dense_11 (<span style=\"color: #0087ff; text-decoration-color: #0087ff\">Dense</span>)                │ (<span style=\"color: #00d7ff; text-decoration-color: #00d7ff\">None</span>, <span style=\"color: #00af00; text-decoration-color: #00af00\">3</span>)              │            <span style=\"color: #00af00; text-decoration-color: #00af00\">99</span> │\n",
       "└─────────────────────────────────┴────────────────────────┴───────────────┘\n",
       "</pre>\n"
      ]
     },
     "metadata": {},
     "output_type": "display_data"
    },
    {
     "data": {
      "text/plain": [
       "\u001B[1m Total params: \u001B[0m\u001B[38;5;34m15,939\u001B[0m (62.26 KB)\n"
      ],
      "text/html": [
       "<pre style=\"white-space:pre;overflow-x:auto;line-height:normal;font-family:Menlo,'DejaVu Sans Mono',consolas,'Courier New',monospace\"><span style=\"font-weight: bold\"> Total params: </span><span style=\"color: #00af00; text-decoration-color: #00af00\">15,939</span> (62.26 KB)\n",
       "</pre>\n"
      ]
     },
     "metadata": {},
     "output_type": "display_data"
    },
    {
     "data": {
      "text/plain": [
       "\u001B[1m Trainable params: \u001B[0m\u001B[38;5;34m15,939\u001B[0m (62.26 KB)\n"
      ],
      "text/html": [
       "<pre style=\"white-space:pre;overflow-x:auto;line-height:normal;font-family:Menlo,'DejaVu Sans Mono',consolas,'Courier New',monospace\"><span style=\"font-weight: bold\"> Trainable params: </span><span style=\"color: #00af00; text-decoration-color: #00af00\">15,939</span> (62.26 KB)\n",
       "</pre>\n"
      ]
     },
     "metadata": {},
     "output_type": "display_data"
    },
    {
     "data": {
      "text/plain": [
       "\u001B[1m Non-trainable params: \u001B[0m\u001B[38;5;34m0\u001B[0m (0.00 B)\n"
      ],
      "text/html": [
       "<pre style=\"white-space:pre;overflow-x:auto;line-height:normal;font-family:Menlo,'DejaVu Sans Mono',consolas,'Courier New',monospace\"><span style=\"font-weight: bold\"> Non-trainable params: </span><span style=\"color: #00af00; text-decoration-color: #00af00\">0</span> (0.00 B)\n",
       "</pre>\n"
      ]
     },
     "metadata": {},
     "output_type": "display_data"
    }
   ],
   "execution_count": 22
  },
  {
   "cell_type": "code",
   "id": "fdce9bf7ddd38c15",
   "metadata": {
    "ExecuteTime": {
     "end_time": "2025-03-17T14:23:55.455712Z",
     "start_time": "2025-03-17T14:23:39.823869Z"
    }
   },
   "source": [
    "history = model.fit(X_train, y_train, epochs=20, batch_size=32, validation_split=0.2)"
   ],
   "outputs": [
    {
     "name": "stdout",
     "output_type": "stream",
     "text": [
      "Epoch 1/20\n",
      "\u001B[1m1352/1352\u001B[0m \u001B[32m━━━━━━━━━━━━━━━━━━━━\u001B[0m\u001B[37m\u001B[0m \u001B[1m1s\u001B[0m 573us/step - accuracy: 0.6605 - loss: 0.8049 - val_accuracy: 0.7284 - val_loss: 0.6716\n",
      "Epoch 2/20\n",
      "\u001B[1m1352/1352\u001B[0m \u001B[32m━━━━━━━━━━━━━━━━━━━━\u001B[0m\u001B[37m\u001B[0m \u001B[1m1s\u001B[0m 531us/step - accuracy: 0.7460 - loss: 0.6364 - val_accuracy: 0.7587 - val_loss: 0.6031\n",
      "Epoch 3/20\n",
      "\u001B[1m1352/1352\u001B[0m \u001B[32m━━━━━━━━━━━━━━━━━━━━\u001B[0m\u001B[37m\u001B[0m \u001B[1m1s\u001B[0m 562us/step - accuracy: 0.7727 - loss: 0.5697 - val_accuracy: 0.7711 - val_loss: 0.5663\n",
      "Epoch 4/20\n",
      "\u001B[1m1352/1352\u001B[0m \u001B[32m━━━━━━━━━━━━━━━━━━━━\u001B[0m\u001B[37m\u001B[0m \u001B[1m1s\u001B[0m 554us/step - accuracy: 0.7832 - loss: 0.5407 - val_accuracy: 0.7842 - val_loss: 0.5445\n",
      "Epoch 5/20\n",
      "\u001B[1m1352/1352\u001B[0m \u001B[32m━━━━━━━━━━━━━━━━━━━━\u001B[0m\u001B[37m\u001B[0m \u001B[1m1s\u001B[0m 567us/step - accuracy: 0.7979 - loss: 0.5090 - val_accuracy: 0.7875 - val_loss: 0.5327\n",
      "Epoch 6/20\n",
      "\u001B[1m1352/1352\u001B[0m \u001B[32m━━━━━━━━━━━━━━━━━━━━\u001B[0m\u001B[37m\u001B[0m \u001B[1m1s\u001B[0m 557us/step - accuracy: 0.8023 - loss: 0.4914 - val_accuracy: 0.7908 - val_loss: 0.5215\n",
      "Epoch 7/20\n",
      "\u001B[1m1352/1352\u001B[0m \u001B[32m━━━━━━━━━━━━━━━━━━━━\u001B[0m\u001B[37m\u001B[0m \u001B[1m1s\u001B[0m 554us/step - accuracy: 0.8120 - loss: 0.4719 - val_accuracy: 0.7988 - val_loss: 0.5076\n",
      "Epoch 8/20\n",
      "\u001B[1m1352/1352\u001B[0m \u001B[32m━━━━━━━━━━━━━━━━━━━━\u001B[0m\u001B[37m\u001B[0m \u001B[1m1s\u001B[0m 558us/step - accuracy: 0.8175 - loss: 0.4625 - val_accuracy: 0.7944 - val_loss: 0.5149\n",
      "Epoch 9/20\n",
      "\u001B[1m1352/1352\u001B[0m \u001B[32m━━━━━━━━━━━━━━━━━━━━\u001B[0m\u001B[37m\u001B[0m \u001B[1m1s\u001B[0m 555us/step - accuracy: 0.8217 - loss: 0.4449 - val_accuracy: 0.8037 - val_loss: 0.4932\n",
      "Epoch 10/20\n",
      "\u001B[1m1352/1352\u001B[0m \u001B[32m━━━━━━━━━━━━━━━━━━━━\u001B[0m\u001B[37m\u001B[0m \u001B[1m1s\u001B[0m 557us/step - accuracy: 0.8287 - loss: 0.4302 - val_accuracy: 0.8045 - val_loss: 0.4961\n",
      "Epoch 11/20\n",
      "\u001B[1m1352/1352\u001B[0m \u001B[32m━━━━━━━━━━━━━━━━━━━━\u001B[0m\u001B[37m\u001B[0m \u001B[1m1s\u001B[0m 563us/step - accuracy: 0.8326 - loss: 0.4227 - val_accuracy: 0.8047 - val_loss: 0.4968\n",
      "Epoch 12/20\n",
      "\u001B[1m1352/1352\u001B[0m \u001B[32m━━━━━━━━━━━━━━━━━━━━\u001B[0m\u001B[37m\u001B[0m \u001B[1m1s\u001B[0m 556us/step - accuracy: 0.8347 - loss: 0.4138 - val_accuracy: 0.7942 - val_loss: 0.5143\n",
      "Epoch 13/20\n",
      "\u001B[1m1352/1352\u001B[0m \u001B[32m━━━━━━━━━━━━━━━━━━━━\u001B[0m\u001B[37m\u001B[0m \u001B[1m1s\u001B[0m 554us/step - accuracy: 0.8403 - loss: 0.4022 - val_accuracy: 0.8069 - val_loss: 0.4945\n",
      "Epoch 14/20\n",
      "\u001B[1m1352/1352\u001B[0m \u001B[32m━━━━━━━━━━━━━━━━━━━━\u001B[0m\u001B[37m\u001B[0m \u001B[1m1s\u001B[0m 560us/step - accuracy: 0.8426 - loss: 0.3940 - val_accuracy: 0.8019 - val_loss: 0.4998\n",
      "Epoch 15/20\n",
      "\u001B[1m1352/1352\u001B[0m \u001B[32m━━━━━━━━━━━━━━━━━━━━\u001B[0m\u001B[37m\u001B[0m \u001B[1m1s\u001B[0m 559us/step - accuracy: 0.8411 - loss: 0.3888 - val_accuracy: 0.7972 - val_loss: 0.5358\n",
      "Epoch 16/20\n",
      "\u001B[1m1352/1352\u001B[0m \u001B[32m━━━━━━━━━━━━━━━━━━━━\u001B[0m\u001B[37m\u001B[0m \u001B[1m1s\u001B[0m 560us/step - accuracy: 0.8465 - loss: 0.3870 - val_accuracy: 0.8118 - val_loss: 0.4890\n",
      "Epoch 17/20\n",
      "\u001B[1m1352/1352\u001B[0m \u001B[32m━━━━━━━━━━━━━━━━━━━━\u001B[0m\u001B[37m\u001B[0m \u001B[1m1s\u001B[0m 550us/step - accuracy: 0.8516 - loss: 0.3709 - val_accuracy: 0.8093 - val_loss: 0.4966\n",
      "Epoch 18/20\n",
      "\u001B[1m1352/1352\u001B[0m \u001B[32m━━━━━━━━━━━━━━━━━━━━\u001B[0m\u001B[37m\u001B[0m \u001B[1m1s\u001B[0m 550us/step - accuracy: 0.8517 - loss: 0.3698 - val_accuracy: 0.8088 - val_loss: 0.4947\n",
      "Epoch 19/20\n",
      "\u001B[1m1352/1352\u001B[0m \u001B[32m━━━━━━━━━━━━━━━━━━━━\u001B[0m\u001B[37m\u001B[0m \u001B[1m1s\u001B[0m 547us/step - accuracy: 0.8558 - loss: 0.3617 - val_accuracy: 0.8002 - val_loss: 0.5242\n",
      "Epoch 20/20\n",
      "\u001B[1m1352/1352\u001B[0m \u001B[32m━━━━━━━━━━━━━━━━━━━━\u001B[0m\u001B[37m\u001B[0m \u001B[1m1s\u001B[0m 546us/step - accuracy: 0.8577 - loss: 0.3558 - val_accuracy: 0.8074 - val_loss: 0.5021\n"
     ]
    }
   ],
   "execution_count": 23
  },
  {
   "cell_type": "code",
   "id": "244ab93fbd20f86",
   "metadata": {
    "ExecuteTime": {
     "end_time": "2025-03-17T14:24:01.075328Z",
     "start_time": "2025-03-17T14:24:00.894343Z"
    }
   },
   "source": [
    "loss, accuracy = model.evaluate(X_test, y_test)\n",
    "print(f\"Test Loss: {loss}\")\n",
    "print(f\"Test Accuracy: {accuracy}\")"
   ],
   "outputs": [
    {
     "name": "stdout",
     "output_type": "stream",
     "text": [
      "\u001B[1m423/423\u001B[0m \u001B[32m━━━━━━━━━━━━━━━━━━━━\u001B[0m\u001B[37m\u001B[0m \u001B[1m0s\u001B[0m 340us/step - accuracy: 0.8077 - loss: 0.4888\n",
      "Test Loss: 0.4895714819431305\n",
      "Test Accuracy: 0.8101687431335449\n"
     ]
    }
   ],
   "execution_count": 24
  },
  {
   "cell_type": "code",
   "id": "fb1e91c00894b912",
   "metadata": {
    "ExecuteTime": {
     "end_time": "2025-03-17T14:13:59.891547Z",
     "start_time": "2025-03-17T14:13:59.687033Z"
    }
   },
   "source": [
    "predictions = model.predict(X_test)\n",
    "predicted_labels = np.argmax(predictions, axis=1)  # Convert probabilities to labels"
   ],
   "outputs": [
    {
     "name": "stdout",
     "output_type": "stream",
     "text": [
      "\u001B[1m423/423\u001B[0m \u001B[32m━━━━━━━━━━━━━━━━━━━━\u001B[0m\u001B[37m\u001B[0m \u001B[1m0s\u001B[0m 269us/step\n"
     ]
    }
   ],
   "execution_count": 20
  },
  {
   "cell_type": "code",
   "id": "c605cefbce1eaa1b",
   "metadata": {
    "ExecuteTime": {
     "end_time": "2025-03-17T14:14:01.779468Z",
     "start_time": "2025-03-17T14:14:01.776598Z"
    }
   },
   "source": [
    "print(predicted_labels)"
   ],
   "outputs": [
    {
     "name": "stdout",
     "output_type": "stream",
     "text": [
      "[1 2 2 ... 1 0 2]\n"
     ]
    }
   ],
   "execution_count": 21
  },
  {
   "metadata": {},
   "cell_type": "code",
   "outputs": [],
   "execution_count": null,
   "source": "",
   "id": "aac326b45808bde9"
  }
 ],
 "metadata": {
  "kernelspec": {
   "display_name": "Python 3 (ipykernel)",
   "language": "python",
   "name": "python3"
  },
  "language_info": {
   "codemirror_mode": {
    "name": "ipython",
    "version": 3
   },
   "file_extension": ".py",
   "mimetype": "text/x-python",
   "name": "python",
   "nbconvert_exporter": "python",
   "pygments_lexer": "ipython3",
   "version": "3.9.6"
  }
 },
 "nbformat": 4,
 "nbformat_minor": 5
}
